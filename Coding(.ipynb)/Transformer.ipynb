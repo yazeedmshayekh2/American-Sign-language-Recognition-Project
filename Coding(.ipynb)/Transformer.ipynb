#Please, forgive me. since there is no time and recourses, I worked on kaggle interpreter, so the whole code will be available in one file. In future I will provide a version to work with code as py files in separate directories.
#So if you want to run this code, you have to run it on kaggle interpreter.

#Requirments 
!pip install neptune



